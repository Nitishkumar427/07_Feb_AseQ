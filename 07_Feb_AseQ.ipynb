{
 "cells": [
  {
   "cell_type": "markdown",
   "id": "716a2302",
   "metadata": {},
   "source": [
    "## Q1. You are writing code for a company. The requirement of the company is that you create a python function that will check whether the password entered by the user is correct or not. The function shouldtake the password as input and return the string “Valid Password” if the entered password follows thebelow-given password guidelines else it should return “Invalid Password”.\n",
    "## Note: 1. The Password should contain at least two uppercase letters and at least two lowercase letters.\n",
    "## 2. The Password should contain at least a number and three special characters.\n",
    "## 3. The length of the password should be 10 characters long."
   ]
  },
  {
   "cell_type": "code",
   "execution_count": 5,
   "id": "4cd6461a",
   "metadata": {},
   "outputs": [
    {
     "name": "stdout",
     "output_type": "stream",
     "text": [
      "Enter your password: 1234\n",
      "Invalid Password\n"
     ]
    }
   ],
   "source": [
    "import re\n",
    "\n",
    "def is_valid_password(password):\n",
    "    # Check if the password is 10 characters long\n",
    "    if len(password) != 10:\n",
    "        return \"Invalid Password\"\n",
    "    \n",
    "    # Count the number of uppercase and lowercase letters\n",
    "    uppercase_count = sum(1 for char in password if char.isupper())\n",
    "    lowercase_count = sum(1 for char in password if char.islower())\n",
    "    \n",
    "    # Check if there are at least two uppercase and two lowercase letters\n",
    "    if uppercase_count >= 2 and lowercase_count >= 2:\n",
    "        # Check if there is at least one digit and three special characters\n",
    "        if re.search(r'\\d', password) and re.search(r'[!@#$%^&*]', password):\n",
    "            return \"Valid Password\"\n",
    "    \n",
    "    return \"Invalid Password\"\n",
    "\n",
    "# Example usage\n",
    "password = input(\"Enter your password: \")\n",
    "result = is_valid_password(password)\n",
    "print(result)\n"
   ]
  },
  {
   "cell_type": "markdown",
   "id": "864f4296",
   "metadata": {},
   "source": [
    "# Q2. Solve the below-given questions using at least one of the following:\n",
    "  ### 1. Lambda functioJ\n",
    "  ### 2. Filter functioJ\n",
    "  ### 3. Zap functioJ\n",
    "  ### 4. List ComprehensioI\n",
    "      # B Check if the string starts with a particular letterY\n",
    "      # B Check if the string is numericY\n",
    "      #  B Sort a list of tuples having fruit names and their quantity.\n",
    "      # [(\"mango\",99),(\"orange\",80), (\"grapes\", 1000)-\n",
    "      # B Find the squares of numbers from 1 to 10Y\n",
    "      # B Find the cube root of numbers from 1 to 10Y\n",
    "      # B Check if a given number is evenY\n",
    "      #B Filter odd numbers from the given list.\n",
    "      # [1,2,3,4,5,6,7,8,9,10-\n",
    "     #B Sort a list of integers into positive and negative integers lists.\n",
    "      # [1,2,3,4,5,6,-1,-2,-3,-4,-5,0]"
   ]
  },
  {
   "cell_type": "markdown",
   "id": "8a31a059",
   "metadata": {},
   "source": [
    "# Check if the string starts with a particular letter:\n",
    "# Using lambda function and filter function"
   ]
  },
  {
   "cell_type": "code",
   "execution_count": 7,
   "id": "99fcfe79",
   "metadata": {},
   "outputs": [
    {
     "name": "stdout",
     "output_type": "stream",
     "text": [
      "['apple']\n"
     ]
    }
   ],
   "source": [
    "\n",
    "strings = [\"apple\", \"banana\", \"cherry\", \"orange\"]\n",
    "letter_to_check = \"a\"\n",
    "filtered_strings = list(filter(lambda x: x.startswith(letter_to_check), strings))\n",
    "print(filtered_strings)\n"
   ]
  },
  {
   "cell_type": "markdown",
   "id": "9644ec38",
   "metadata": {},
   "source": [
    "# Check if the string is numeric:"
   ]
  },
  {
   "cell_type": "code",
   "execution_count": 8,
   "id": "4230c9c4",
   "metadata": {},
   "outputs": [
    {
     "name": "stdout",
     "output_type": "stream",
     "text": [
      "['123', '45', '6789']\n"
     ]
    }
   ],
   "source": [
    "# Using lambda function and filter function\n",
    "strings = [\"123\", \"apple\", \"45\", \"orange\", \"6789\"]\n",
    "numeric_strings = list(filter(lambda x: x.isnumeric(), strings))\n",
    "print(numeric_strings)\n"
   ]
  },
  {
   "cell_type": "markdown",
   "id": "c827b9c8",
   "metadata": {},
   "source": [
    "# Sort a list of tuples having fruit names and their quantity:"
   ]
  },
  {
   "cell_type": "code",
   "execution_count": 9,
   "id": "0ac0a68d",
   "metadata": {},
   "outputs": [
    {
     "name": "stdout",
     "output_type": "stream",
     "text": [
      "[('orange', 80), ('mango', 99), ('grapes', 1000)]\n"
     ]
    }
   ],
   "source": [
    "# Using lambda function and sorted function\n",
    "fruits_quantity = [(\"mango\", 99), (\"orange\", 80), (\"grapes\", 1000)]\n",
    "sorted_fruits_quantity = sorted(fruits_quantity, key=lambda x: x[1])\n",
    "print(sorted_fruits_quantity)\n"
   ]
  },
  {
   "cell_type": "markdown",
   "id": "3aed2adc",
   "metadata": {},
   "source": [
    "# Find the squares of numbers from 1 to 10:"
   ]
  },
  {
   "cell_type": "code",
   "execution_count": 10,
   "id": "99f0f90e",
   "metadata": {},
   "outputs": [
    {
     "name": "stdout",
     "output_type": "stream",
     "text": [
      "[1, 4, 9, 16, 25, 36, 49, 64, 81, 100]\n"
     ]
    }
   ],
   "source": [
    "# Using list comprehension\n",
    "squares = [x**2 for x in range(1, 11)]\n",
    "print(squares)\n"
   ]
  },
  {
   "cell_type": "markdown",
   "id": "893bb744",
   "metadata": {},
   "source": [
    "# Find the cube root of numbers from 1 to 10:"
   ]
  },
  {
   "cell_type": "code",
   "execution_count": 11,
   "id": "6e5583f7",
   "metadata": {},
   "outputs": [
    {
     "name": "stdout",
     "output_type": "stream",
     "text": [
      "[1.0, 1.2599210498948732, 1.4422495703074083, 1.5874010519681994, 1.7099759466766968, 1.8171205928321397, 1.912931182772389, 2.0, 2.080083823051904, 2.154434690031884]\n"
     ]
    }
   ],
   "source": [
    "# Using list comprehension and lambda function\n",
    "import math\n",
    "cube_roots = [math.pow(x, 1/3) for x in range(1, 11)]\n",
    "print(cube_roots)\n"
   ]
  },
  {
   "cell_type": "markdown",
   "id": "194ea8af",
   "metadata": {},
   "source": [
    "# Check if a given number is even:"
   ]
  },
  {
   "cell_type": "code",
   "execution_count": 12,
   "id": "4410f2cb",
   "metadata": {},
   "outputs": [
    {
     "name": "stdout",
     "output_type": "stream",
     "text": [
      "[False, True, False, True, False, True, False, True, False, True]\n"
     ]
    }
   ],
   "source": [
    "# Using lambda function and map function\n",
    "numbers = [1, 2, 3, 4, 5, 6, 7, 8, 9, 10]\n",
    "even_numbers = list(map(lambda x: x % 2 == 0, numbers))\n",
    "print(even_numbers)\n"
   ]
  },
  {
   "cell_type": "markdown",
   "id": "1f553b24",
   "metadata": {},
   "source": [
    "# Filter odd numbers from the given list:"
   ]
  },
  {
   "cell_type": "code",
   "execution_count": 14,
   "id": "a2b6e6a7",
   "metadata": {},
   "outputs": [
    {
     "name": "stdout",
     "output_type": "stream",
     "text": [
      "[1, 3, 5, 7, 9]\n"
     ]
    }
   ],
   "source": [
    "# Using lambda function and filter function\n",
    "numbers = [1, 2, 3, 4, 5, 6, 7, 8, 9, 10]\n",
    "odd_numbers = list(filter(lambda x: x % 2 != 0, numbers))\n",
    "print(odd_numbers)\n"
   ]
  },
  {
   "cell_type": "markdown",
   "id": "9ca48057",
   "metadata": {},
   "source": [
    "# Sort a list of integers into positive and negative integers lists:"
   ]
  },
  {
   "cell_type": "code",
   "execution_count": 15,
   "id": "67e68481",
   "metadata": {},
   "outputs": [
    {
     "name": "stdout",
     "output_type": "stream",
     "text": [
      "Positive Numbers: [1, 2, 3, 4, 5, 6]\n",
      "Negative Numbers: [-1, -2, -3, -4, -5]\n"
     ]
    }
   ],
   "source": [
    "# Using lambda function and list comprehension\n",
    "numbers = [1, 2, 3, 4, 5, 6, -1, -2, -3, -4, -5, 0]\n",
    "positive_numbers = [x for x in numbers if x > 0]\n",
    "negative_numbers = [x for x in numbers if x < 0]\n",
    "print(\"Positive Numbers:\", positive_numbers)\n",
    "print(\"Negative Numbers:\", negative_numbers)\n"
   ]
  },
  {
   "cell_type": "code",
   "execution_count": null,
   "id": "41040761",
   "metadata": {},
   "outputs": [],
   "source": []
  }
 ],
 "metadata": {
  "kernelspec": {
   "display_name": "Python 3 (ipykernel)",
   "language": "python",
   "name": "python3"
  },
  "language_info": {
   "codemirror_mode": {
    "name": "ipython",
    "version": 3
   },
   "file_extension": ".py",
   "mimetype": "text/x-python",
   "name": "python",
   "nbconvert_exporter": "python",
   "pygments_lexer": "ipython3",
   "version": "3.11.5"
  }
 },
 "nbformat": 4,
 "nbformat_minor": 5
}
